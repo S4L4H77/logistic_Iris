{
 "cells": [
  {
   "cell_type": "code",
   "execution_count": null,
   "metadata": {},
   "outputs": [],
   "source": [
    "import numpy as np\n",
    "import matplotlib.pyplot as plt\n",
    "from sklearn.datasets import load_iris\n",
    "\n",
    "# Sigmoid function\n",
    "def sigmoid(z):\n",
    "    return 1 / (1 + np.exp(-z))\n",
    "\n",
    "# Gradient descent for logistic regression\n",
    "def gradient_descent(X, y, learning_rate=0.01, epochs=1000):\n",
    "    m, n = X.shape\n",
    "    W = np.zeros(n + 1)\n",
    "    X_b = np.c_[np.ones((m, 1)), X]\n",
    "    for epoch in range(epochs):\n",
    "        z = X_b.dot(W)\n",
    "        y_pred = sigmoid(z)\n",
    "        error = y_pred - y\n",
    "        gradient = (1/m) * X_b.T.dot(error)\n",
    "        W -= learning_rate * gradient\n",
    "        if epoch % 100 == 0:\n",
    "            loss = - (1/m) * np.sum(y * np.log(y_pred + 1e-9) + (1 - y) * np.log(1 - y_pred + 1e-9))\n",
    "            print(f\"Epoch {epoch}, Loss: {loss}\")\n",
    "    return W\n",
    "\n",
    "# Load Iris dataset (binary classification)\n",
    "iris = load_iris()\n",
    "X = iris.data[:100, :2]  # first 2 features\n",
    "y = (iris.target[:100] == 1).astype(int)  # binary labels\n",
    "\n",
    "# Train model\n",
    "weights = gradient_descent(X, y, learning_rate=0.1, epochs=1000)\n",
    "print(\"\\nIntercept (w0):\", weights[0])\n",
    "print(\"Weights:\", weights[1:])\n",
    "\n",
    "# Plot decision boundary\n",
    "plt.scatter(X[:, 0], X[:, 1], c=y, cmap='bwr', label='Data Points')\n",
    "x_values = np.linspace(X[:, 0].min(), X[:, 0].max(), 100)\n",
    "y_values = -(weights[0] + weights[1] * x_values) / weights[2]\n",
    "plt.plot(x_values, y_values, color='black', label='Decision Boundary')\n",
    "plt.xlabel(iris.feature_names[0])\n",
    "plt.ylabel(iris.feature_names[1])\n",
    "plt.title('Logistic Regression on Iris Dataset')\n",
    "plt.legend()\n",
    "plt.show()"
   ]
  }
 ],
 "metadata": {
  "kernelspec": {
   "display_name": "Python 3",
   "language": "python",
   "name": "python3"
  },
  "language_info": {
   "name": "python",
   "version": "3.10"
  }
 },
 "nbformat": 4,
 "nbformat_minor": 5
}
